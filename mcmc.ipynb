{
 "cells": [
  {
   "cell_type": "markdown",
   "id": "b1937013-deea-4c23-ab17-c422e8519fde",
   "metadata": {},
   "source": [
    "# Markov Chain Monte Carlo"
   ]
  },
  {
   "cell_type": "markdown",
   "id": "586da3bb-e64b-49ee-822f-f3db58756449",
   "metadata": {},
   "source": [
    "### Metropolis-Hastings Algorithm:\n",
    "\n",
    "This technique requires a simple distribution called the proposal distribution (transition model) $Q(\\theta^\\prime/\\theta)$ to help draw samples from an intractable posterior distribution $P(\\Theta=\\theta/D)$.\n",
    "\n",
    "\n",
    "Metropolis-Hastings uses $Q$ to randomly walk in the distribution space, accepting or rejecting jumps to new positions based on how likely the sample is. This \"memoriless\" random walk is the \"Markov Chain\" part of MCMC.\n",
    "\n",
    "\n",
    "\n",
    "The \"likelihood\" of each new sample is decided by a function $f$ . That's why $f$ must be proportional to the posterior we want to sample from. f is commonly chosen to be a probability density function that expresses this proportionality.\n",
    "\n",
    "\n",
    "\n",
    "To get a new position of the parameter, just take our current one $\\theta$, and propose a new one $\\theta^\\prime$, that is a random sample drawn from $Q(\\theta^\\prime/\\theta)$. Often this is a symmetric distribution. For instance, a normal distribution with mean $\\theta$ and some standard deviation $\\sigma$: $Q(\\theta^\\prime/\\theta) = \\mathcal{N}(\\theta, \\sigma)$\n",
    "\n",
    "\n",
    "To decide if $\\theta^\\prime$ is to be accepted or rejected, the following ratio must be computed for each new value of $\\theta^\\prime$: \n",
    "\n",
    "$$\\dfrac{P(\\theta^\\prime/D)}{P(\\theta/D)}$$ \n",
    "\n",
    "Using Bayes' formula this can be easily re-formulated as: \n",
    "\n",
    "$$\\dfrac{P(D/\\theta^\\prime)P(\\theta^\\prime)}{P(D/\\theta)P(\\theta)}$$\n",
    "\n",
    "Which is also equivalent to \n",
    "\n",
    "$$\\dfrac{\\prod_i^nf(d_i/\\Theta=\\theta^\\prime)P(\\theta^\\prime)}{\\prod_i^nf(d_i/\\Theta=\\theta)P(\\theta)}$$\n",
    "\n",
    "This means that if a θ' is more likely than the current θ, then we always accept θ'. If it is less likely than the current θ, then we might accept it or reject it randomly with decreasing probability, the less likely it is\n",
    "\n",
    "---\n",
    "- given:\n",
    "\n",
    "    - $f$, the PDF of the distribution to sample from (likelihood; f must be proportional to the posterior)\n",
    "    - $Q$, the transition model (proposal distribution)\n",
    "    - $\\theta_0$, a first guess for $\\theta$\n",
    "    - $\\theta = \\theta_0$\n",
    "\n",
    "\n",
    "- for $n$ iterations\n",
    "\n",
    "    - $p = f(D/\\Theta=\\theta)P(\\theta)$\n",
    "    - $\\theta^\\prime = Q(\\theta_i)$\n",
    "    - $p^\\prime = f(D/\\Theta=\\theta^\\prime)P(\\theta^\\prime)$\n",
    "    - $ratio = \\dfrac{p^\\prime}{p}$\n",
    "    - generate a uniform random number $r$ in [0,1]\n",
    "    - if $r<ratio$:\n",
    "        - set $\\theta_i = \\theta^\\prime$"
   ]
  },
  {
   "cell_type": "code",
   "execution_count": 1,
   "id": "ca4818ff-dbe7-4295-9f3b-ee3d710c826c",
   "metadata": {},
   "outputs": [],
   "source": [
    "import numpy as np\n",
    "import scipy\n",
    "import scipy.stats\n",
    "import matplotlib as mpl   \n",
    "import matplotlib.pyplot as plt"
   ]
  },
  {
   "cell_type": "code",
   "execution_count": 14,
   "id": "ff11da06-b858-48c1-bbcd-0dda6298b8ed",
   "metadata": {},
   "outputs": [],
   "source": [
    "# data generation\n",
    "\n",
    "mean = 10\n",
    "sigma = 3\n",
    "population_size = 30000\n",
    "\n",
    "population = np.random.normal(mean,sigma,population_size)"
   ]
  },
  {
   "cell_type": "code",
   "execution_count": 21,
   "id": "512db9f2-8a1a-40f2-8bbe-77171a15ede7",
   "metadata": {},
   "outputs": [
    {
     "data": {
      "image/png": "[encoded data removed]",
      "text/plain": [
       "<Figure size 432x288 with 1 Axes>"
      ]
     },
     "metadata": {
      "needs_background": "light"
     },
     "output_type": "display_data"
    }
   ],
   "source": [
    "plot_population = plt.hist(population, bins=35)"
   ]
  },
  {
   "cell_type": "code",
   "execution_count": 20,
   "id": "e05d0f6f-083f-4590-8391-b54cfff351c2",
   "metadata": {},
   "outputs": [],
   "source": [
    "# Take 10000 observations from population\n",
    "\n",
    "observation = population[np.random.randint(0, 30000, 1000)]"
   ]
  },
  {
   "cell_type": "code",
   "execution_count": 22,
   "id": "89927626-8151-4b8e-8ce6-7b996ad304af",
   "metadata": {},
   "outputs": [
    {
     "data": {
      "image/png": "[encoded data removed]",
      "text/plain": [
       "<Figure size 432x288 with 1 Axes>"
      ]
     },
     "metadata": {
      "needs_background": "light"
     },
     "output_type": "display_data"
    }
   ],
   "source": [
    "plot_observation = plt.hist(observation, bins=35)"
   ]
  },
  {
   "cell_type": "markdown",
   "id": "312c8c1a-cf46-4e6d-a65d-467be6528bc6",
   "metadata": {},
   "source": [
    "- given:\n",
    "\n",
    "    - $f$, the PDF of the distribution to sample from (likelihood; f must be proportional to the posterior)\n",
    "    - $Q$, the transition model (proposal distribution)\n",
    "    - $\\theta_0$, a first guess for $\\theta$\n",
    "    - $\\theta = \\theta_0$"
   ]
  },
  {
   "cell_type": "code",
   "execution_count": null,
   "id": "4face00c-00c3-4d6a-9943-8b7fcf77c9b7",
   "metadata": {},
   "outputs": [],
   "source": [
    "# likelihood\n",
    "\n",
    "\n",
    "\n",
    "# proposal distribution: normal ----- x[mean,sigma,XXX]\n",
    "transition_model = lambda x: [x[0],np.random.normal(x[1],0.5,(1,))[0]]\n",
    "\n",
    "\n",
    "# acceptance formula\n",
    "\n",
    "# starting sigma\n",
    "\n"
   ]
  }
 ],
 "metadata": {
  "kernelspec": {
   "display_name": "erpinator",
   "language": "python",
   "name": "erpinator"
  },
  "language_info": {
   "codemirror_mode": {
    "name": "ipython",
    "version": 3
   },
   "file_extension": ".py",
   "mimetype": "text/x-python",
   "name": "python",
   "nbconvert_exporter": "python",
   "pygments_lexer": "ipython3",
   "version": "3.8.3"
  }
 },
 "nbformat": 4,
 "nbformat_minor": 5
}
